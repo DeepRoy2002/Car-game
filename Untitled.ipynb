{
 "cells": [
  {
   "cell_type": "code",
   "execution_count": null,
   "id": "c14207d1",
   "metadata": {},
   "outputs": [],
   "source": [
    "import ctypes\n",
    "\n",
    "keys = {\n",
    "    \"w\":0x11,\n",
    "    \"a\":0x1E,\n",
    "    \"s\":0x1F,\n",
    "    \"d\":0x20,\n",
    "}\n",
    "PUL = ctypes.POINTER(ctypes.c_ulong)\n",
    "class KeyBdInput(ctypes.Structure):\n",
    "    _fields_ = [(\"wVk\", ctypes.c_ushort),\n",
    "                (\"wScan\", ctypes.c_ushort),\n",
    "                (\"dwFlags\", ctypes.c_ulong),\n",
    "                (\"time\", ctypes.c_ulong),\n",
    "                (\"dwExtraInfo\", PUL)]\n",
    "\n",
    "class HardwareInput(ctypes.Structure):\n",
    "    _fields_ = [(\"uMsg\", ctypes.c_ulong),\n",
    "                (\"wParamL\", ctypes.c_short),\n",
    "                (\"wParamH\", ctypes.c_ushort)]\n",
    "\n",
    "class MouseInput(ctypes.Structure):\n",
    "    _fields_ = [(\"dx\", ctypes.c_long),\n",
    "                (\"dy\", ctypes.c_long),\n",
    "                (\"mouseData\", ctypes.c_ulong),\n",
    "                (\"dwFlags\", ctypes.c_ulong),\n",
    "                (\"time\",ctypes.c_ulong),\n",
    "                (\"dwExtraInfo\", PUL)]\n",
    "\n",
    "class Input_I(ctypes.Union):\n",
    "    _fields_ = [(\"ki\", KeyBdInput),\n",
    "                 (\"mi\", MouseInput),\n",
    "                 (\"hi\", HardwareInput)]\n",
    "\n",
    "class Input(ctypes.Structure):\n",
    "    _fields_ = [(\"type\", ctypes.c_ulong),\n",
    "                (\"ii\", Input_I)]\n",
    "\n",
    "def press_key(key):\n",
    "    extra = ctypes.c_ulong(0)\n",
    "    ii_ = Input_I()\n",
    "    ii_.ki = KeyBdInput( 0, keys[key], 0x0008, 0, ctypes.pointer(extra) )\n",
    "    x = Input( ctypes.c_ulong(1), ii_ )\n",
    "    ctypes.windll.user32.SendInput(1, ctypes.pointer(x), ctypes.sizeof(x))\n",
    "\n",
    "def release_key(key):\n",
    "    extra = ctypes.c_ulong(0)\n",
    "    ii_ = Input_I()\n",
    "    ii_.ki = KeyBdInput( 0, keys[key], 0x0008 | 0x0002, 0, ctypes.pointer(extra) )\n",
    "    x = Input( ctypes.c_ulong(1), ii_ )\n",
    "    ctypes.windll.user32.SendInput(1, ctypes.pointer(x), ctypes.sizeof(x))"
   ]
  }
 ],
 "metadata": {
  "kernelspec": {
   "display_name": "Python 3 (ipykernel)",
   "language": "python",
   "name": "python3"
  },
  "language_info": {
   "codemirror_mode": {
    "name": "ipython",
    "version": 3
   },
   "file_extension": ".py",
   "mimetype": "text/x-python",
   "name": "python",
   "nbconvert_exporter": "python",
   "pygments_lexer": "ipython3",
   "version": "3.9.12"
  }
 },
 "nbformat": 4,
 "nbformat_minor": 5
}
